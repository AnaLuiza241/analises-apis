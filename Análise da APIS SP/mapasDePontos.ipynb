{
 "cells": [
  {
   "attachments": {},
   "cell_type": "markdown",
   "metadata": {},
   "source": [
    "## Notebook para Análise das APIs Geocodificação"
   ]
  },
  {
   "attachments": {},
   "cell_type": "markdown",
   "metadata": {},
   "source": [
    "### Leitura e Preparação dos Dados"
   ]
  },
  {
   "cell_type": "code",
   "execution_count": null,
   "metadata": {},
   "outputs": [],
   "source": [
    "import pandas as pd\n",
    "import plotly.graph_objs as go\n",
    "import numpy as np \n"
   ]
  },
  {
   "cell_type": "code",
   "execution_count": null,
   "metadata": {},
   "outputs": [],
   "source": [
    "geoGold = pd.read_csv('..\\csv\\DadosGeoeGold.csv')\n",
    "# geoGold.head()\n",
    "#list(geoGold.columns)\n",
    "#geoGold = geoGold.drop(columns=['Unnamed: 0.2','Unnamed: 0.1','Unnamed: 0'])"
   ]
  },
  {
   "cell_type": "code",
   "execution_count": null,
   "metadata": {},
   "outputs": [],
   "source": [
    "#geoGold.head()"
   ]
  },
  {
   "cell_type": "code",
   "execution_count": null,
   "metadata": {},
   "outputs": [],
   "source": [
    "#Separando os dataframes para plotar nos gráficos\n",
    "\n",
    "mapbox = geoGold[geoGold['geoapi_id' ] == 'MapBox']\n",
    "here = geoGold[geoGold['geoapi_id'] == 'Here']\n",
    "tomtom = geoGold[geoGold['geoapi_id'] == 'TomTom']"
   ]
  },
  {
   "cell_type": "code",
   "execution_count": null,
   "metadata": {},
   "outputs": [],
   "source": [
    "# cria um mapa centrado no Brasil\n",
    "mapa_mapbox = go.Figure(go.Scattermapbox(\n",
    "    lat=mapbox['lat'],\n",
    "    lon=mapbox['long'],\n",
    "    mode='markers',\n",
    "    marker=dict(\n",
    "        size=10,\n",
    "        color='red'\n",
    "    ),\n",
    "    name='Pontos Geo'\n",
    "))\n",
    "\n",
    "# adiciona os pontos azuis ao mapa\n",
    "mapa_mapbox.add_trace(go.Scattermapbox(\n",
    "    lat=mapbox['latGold'],\n",
    "    lon=mapbox['lonGold'],\n",
    "    mode='markers',\n",
    "    marker=dict(\n",
    "        size=10,\n",
    "        color='blue'\n",
    "    ),\n",
    "    name='Pontos Gold'\n",
    "))\n",
    "\n",
    "# define as configurações do layout do mapa\n",
    "mapa_mapbox.update_layout(\n",
    "    mapbox=dict(\n",
    "        center=dict(\n",
    "            lat=-23.5489,\n",
    "            lon=-46.6388\n",
    "        ),\n",
    "        zoom=8,\n",
    "        style='open-street-map'\n",
    "    ),\n",
    "    title='Mapa com pontos Geocodificados e do Banco de Dados Gold_ MapBox',\n",
    "    margin=dict(l=0, r=0, t=30, b=0)\n",
    ")\n",
    "\n",
    "# cria um mapa centrado no Brasil\n",
    "mapa_here = go.Figure(go.Scattermapbox(\n",
    "    lat=here['lat'],\n",
    "    lon=here['long'],\n",
    "    mode='markers',\n",
    "    marker=dict(\n",
    "        size=10,\n",
    "        color='red'\n",
    "    ),\n",
    "    name='Pontos Geo'\n",
    "))\n",
    "\n",
    "# adiciona os pontos azuis ao mapa\n",
    "mapa_here.add_trace(go.Scattermapbox(\n",
    "    lat=here['latGold'],\n",
    "    lon=here['lonGold'],\n",
    "    mode='markers',\n",
    "    marker=dict(\n",
    "        size=10,\n",
    "        color='blue'\n",
    "    ),\n",
    "    name='Pontos Gold'\n",
    "))\n",
    "\n",
    "# define as configurações do layout do mapa\n",
    "mapa_here.update_layout(\n",
    "    mapbox=dict(\n",
    "        center=dict(\n",
    "            lat=-23.5489,\n",
    "            lon=-46.6388\n",
    "        ),\n",
    "        zoom=8,\n",
    "        style='open-street-map'\n",
    "    ),\n",
    "    title='Mapa com pontos Geocodificados e do Banco de Dados Gold _ Here',\n",
    "    margin=dict(l=0, r=0, t=30, b=0)\n",
    ")\n",
    "\n",
    "\n",
    "\n",
    "# cria um mapa centrado no Brasil\n",
    "mapa_tomtom = go.Figure(go.Scattermapbox(\n",
    "    lat=tomtom['lat'],\n",
    "    lon=tomtom['long'],\n",
    "    mode='markers',\n",
    "    marker=dict(\n",
    "        size=10,\n",
    "        color='red'\n",
    "    ),\n",
    "    name='Pontos Geo'\n",
    "))\n",
    "\n",
    "# adiciona os pontos azuis ao mapa\n",
    "mapa_tomtom.add_trace(go.Scattermapbox(\n",
    "    lat=tomtom['latGold'],\n",
    "    lon=tomtom['lonGold'],\n",
    "    mode='markers',\n",
    "    marker=dict(\n",
    "        size=10,\n",
    "        color='blue'\n",
    "    ),\n",
    "    name='Pontos Gold'\n",
    "))\n",
    "\n",
    "# define as configurações do layout do mapa\n",
    "mapa_tomtom.update_layout(\n",
    "    mapbox=dict(\n",
    "        center=dict(\n",
    "            lat=-23.5489,\n",
    "            lon=-46.6388\n",
    "        ),\n",
    "        zoom=8,\n",
    "        style='open-street-map'\n",
    "    ),\n",
    "    title='Mapa com pontos Geocodificados e do Banco de Dados Gold _ TomTom',\n",
    "    margin=dict(l=0, r=0, t=30, b=0)\n",
    ")\n",
    "\n",
    "print('.')\n"
   ]
  },
  {
   "attachments": {},
   "cell_type": "markdown",
   "metadata": {},
   "source": [
    "### Gráficos de comparação entre os pontos Geocodificados e o banco Gold"
   ]
  },
  {
   "cell_type": "code",
   "execution_count": null,
   "metadata": {},
   "outputs": [],
   "source": [
    "mapa_mapbox.show()"
   ]
  },
  {
   "cell_type": "code",
   "execution_count": null,
   "metadata": {},
   "outputs": [],
   "source": [
    "mapa_here.show() "
   ]
  },
  {
   "cell_type": "code",
   "execution_count": null,
   "metadata": {},
   "outputs": [],
   "source": [
    "mapa_tomtom.show() "
   ]
  }
 ],
 "metadata": {
  "kernelspec": {
   "display_name": "Python 3",
   "language": "python",
   "name": "python3"
  },
  "language_info": {
   "codemirror_mode": {
    "name": "ipython",
    "version": 3
   },
   "file_extension": ".py",
   "mimetype": "text/x-python",
   "name": "python",
   "nbconvert_exporter": "python",
   "pygments_lexer": "ipython3",
   "version": "3.11.0"
  },
  "orig_nbformat": 4
 },
 "nbformat": 4,
 "nbformat_minor": 2
}
