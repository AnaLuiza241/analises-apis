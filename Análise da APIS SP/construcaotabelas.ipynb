{
 "cells": [
  {
   "cell_type": "code",
   "execution_count": 10,
   "metadata": {},
   "outputs": [],
   "source": [
    "import pandas as pd\n",
    "from geopy import distance\n",
    "from scipy.stats import trim_mean\n"
   ]
  },
  {
   "cell_type": "code",
   "execution_count": 11,
   "metadata": {},
   "outputs": [],
   "source": [
    "nome_experimentosBH = ['geoGoldBHexp1', 'geoGoldBHexp2', 'geoGoldBHexp3', 'geoGoldBHexp4', 'geoGoldBHexp5', 'geoGoldBHexp6', 'geoGoldBHexp7', 'geoGoldBHexp8', 'geoGoldBHexp9', 'geoGoldBHexp10']\n",
    "nome_experimentosSP = ['geoGoldSPexp1', 'geoGoldSPexp2', 'geoGoldSPexp3', 'geoGoldSPexp4', 'geoGoldSPexp5']"
   ]
  },
  {
   "cell_type": "code",
   "execution_count": 12,
   "metadata": {},
   "outputs": [],
   "source": [
    "for nome in nome_experimentosBH:\n",
    "   df = pd.read_csv(f'{nome}.csv')\n",
    "   df['erro'] = df.apply(lambda row: distance.distance((row['long'], row['lat']), (row['LATITUDE'], row['LONGITUDE'])).km if pd.notnull(row['lat']) and pd.notnull(row['long']) else None, axis=1)\n",
    "   df.to_csv(f'{nome}_erro.csv', index=False)"
   ]
  },
  {
   "cell_type": "code",
   "execution_count": 13,
   "metadata": {},
   "outputs": [],
   "source": [
    "for nome in nome_experimentosSP:\n",
    "   df = pd.read_csv(f'{nome}.csv')\n",
    "   df['erro'] = df.apply(lambda row: distance.distance((row['lat'], row['long']), (row['latGold'], row['lonGold'])).km if pd.notnull(row['lat']) and pd.notnull(row['long']) else None, axis=1)\n",
    "   df.to_csv(f'{nome}_erro.csv', index=False)"
   ]
  },
  {
   "cell_type": "markdown",
   "metadata": {},
   "source": [
    "## Tabela Belo Horizonte"
   ]
  },
  {
   "cell_type": "code",
   "execution_count": 15,
   "metadata": {},
   "outputs": [
    {
     "name": "stderr",
     "output_type": "stream",
     "text": [
      "/tmp/ipykernel_26320/2650551774.py:16: FutureWarning: The behavior of DataFrame concatenation with empty or all-NA entries is deprecated. In a future version, this will no longer exclude empty or all-NA columns when determining the result dtypes. To retain the old behavior, exclude the relevant entries before the concat operation.\n",
      "  metricas = pd.concat([metricas, pd.DataFrame([m])], ignore_index=True)\n"
     ]
    }
   ],
   "source": [
    "nome_apis = ['MapBox','Google', 'TomTom', 'OpenRouteService']\n",
    "\n",
    "metricas = pd.DataFrame(columns=['experimento','api', 'media', 'mediana', 'desvio_padrao', 'media_aparada', 'taxa_resposta', 'taxa_acerto'])\n",
    "\n",
    "for nome in nome_experimentosBH:\n",
    "    df = pd.read_csv(f'{nome}_erro.csv')\n",
    "    for nome_a in nome_apis:\n",
    "        api = df[df['geoapi_id' ] == nome_a]\n",
    "        api = api.drop_duplicates(subset='request_id', keep='first')\n",
    "    \n",
    "        n = 5000 #qtd de endereços total\n",
    "        acertos = len(api[api['erro'] <= 0.150])\n",
    "\n",
    "        m = {'experimento': nome,'api': nome_a, 'media':api['erro'].mean(), 'mediana':api['erro'].median(), 'desvio_padrao':api['erro'].std(), 'media_aparada':trim_mean(api['erro'], 0.05), 'taxa_resposta':(api.shape[0]/n), 'taxa_acerto':(acertos/n)}\n",
    "\n",
    "        metricas = pd.concat([metricas, pd.DataFrame([m])], ignore_index=True)\n",
    "\n",
    "\n",
    "metricas.to_csv('metricasExpBH.csv')"
   ]
  },
  {
   "cell_type": "code",
   "execution_count": 16,
   "metadata": {},
   "outputs": [
    {
     "name": "stdout",
     "output_type": "stream",
     "text": [
      "Tabela para MapBox:\n",
      "\n",
      "   experimento    api     media  mediana  desvio_padrao  media_aparada  taxa_resposta  taxa_acerto\n",
      " geoGoldBHexp1 MapBox  1.539552 0.000046      10.912322       0.511817         1.0000       0.8506\n",
      " geoGoldBHexp2 MapBox  1.855776 0.000048       9.876150       0.826308         0.9994       0.8088\n",
      " geoGoldBHexp3 MapBox  1.985113 0.000046      12.479481       0.880777         1.0000       0.8246\n",
      " geoGoldBHexp4 MapBox  3.747499 0.000049      26.633204       0.712573         0.9994       0.7982\n",
      " geoGoldBHexp5 MapBox  1.660480 0.000046      11.255071       0.578759         1.0000       0.8400\n",
      " geoGoldBHexp6 MapBox  2.268966 0.000049      13.585637       0.831613         0.9968       0.8056\n",
      " geoGoldBHexp7 MapBox  3.239740 0.000046      33.421642       0.579544         1.0000       0.8466\n",
      " geoGoldBHexp8 MapBox  2.395281 0.000049      18.048547       0.618146         0.9992       0.7986\n",
      " geoGoldBHexp9 MapBox  2.270220 0.000046      25.666232       0.597641         0.9992       0.8380\n",
      "geoGoldBHexp10 MapBox 22.718122 0.000049     151.027338       0.722369         0.9976       0.8100\n",
      "\n",
      "------------------------------------------------------\n",
      "\n",
      "Tabela para Google:\n",
      "\n",
      "   experimento    api    media  mediana  desvio_padrao  media_aparada  taxa_resposta  taxa_acerto\n",
      " geoGoldBHexp1 Google 2.284151 0.008843       5.067888       1.541325         0.9992       0.7272\n",
      " geoGoldBHexp2 Google 1.477092 0.007045      12.541127       0.641472         0.9996       0.8064\n",
      " geoGoldBHexp3 Google 2.703568 0.008981      13.275209       1.500182         0.9998       0.7330\n",
      " geoGoldBHexp4 Google 2.488111 0.007888      24.657557       0.424849         0.9984       0.7802\n",
      " geoGoldBHexp5 Google 2.191061 0.008868       4.905103       1.453413         0.9992       0.7338\n",
      " geoGoldBHexp6 Google 1.449151 0.007442      15.764553       0.408326         1.0000       0.7830\n",
      " geoGoldBHexp7 Google 2.225610 0.008894       4.911848       1.508163         0.9990       0.7326\n",
      " geoGoldBHexp8 Google 1.317380 0.007442      15.783626       0.400024         0.9992       0.7778\n",
      " geoGoldBHexp9 Google 2.214506 0.008916       4.911495       1.483368         0.9992       0.7332\n",
      "geoGoldBHexp10 Google 1.631620 0.008843      12.503913       0.840399         0.9988       0.7292\n",
      "\n",
      "------------------------------------------------------\n",
      "\n",
      "Tabela para TomTom:\n",
      "\n",
      "   experimento    api     media  mediana  desvio_padrao  media_aparada  taxa_resposta  taxa_acerto\n",
      " geoGoldBHexp1 TomTom  9.638626 0.097375      54.293889       2.383578         1.0000       0.5280\n",
      " geoGoldBHexp2 TomTom  4.772675 0.060837      36.194963       1.415974         0.9998       0.5634\n",
      " geoGoldBHexp3 TomTom  3.493690 0.055936      31.276516       1.894932         0.9994       0.5566\n",
      " geoGoldBHexp4 TomTom  4.977097 0.087184      34.512517       1.956344         0.9998       0.5376\n",
      " geoGoldBHexp5 TomTom  4.209165 0.055609      41.653527       1.857687         1.0000       0.5582\n",
      " geoGoldBHexp6 TomTom  4.963664 0.082551      34.529210       1.938064         0.9988       0.5392\n",
      " geoGoldBHexp7 TomTom 10.042613 0.060228      57.575517       2.080298         0.9998       0.5532\n",
      " geoGoldBHexp8 TomTom  4.977097 0.087184      34.512517       1.956344         0.9998       0.5376\n",
      " geoGoldBHexp9 TomTom  4.211492 0.055581      41.665922       1.861228         0.9994       0.5578\n",
      "geoGoldBHexp10 TomTom  4.965005 0.083011      34.522296       1.940898         0.9992       0.5392\n",
      "\n",
      "------------------------------------------------------\n",
      "\n",
      "Tabela para OpenRouteService:\n",
      "\n",
      "   experimento              api      media    mediana  desvio_padrao  media_aparada  taxa_resposta  taxa_acerto\n",
      " geoGoldBHexp1 OpenRouteService   5.443245   6.606720       4.669510       5.259343         0.9992       0.2646\n",
      " geoGoldBHexp2 OpenRouteService 134.564517   6.726786     352.871052      70.399993         0.9526       0.1562\n",
      " geoGoldBHexp3 OpenRouteService 141.563530   7.689302     326.944740      85.764655         0.9906       0.2228\n",
      " geoGoldBHexp4 OpenRouteService 235.720433 120.745927     321.074977     190.471249         0.9530       0.0546\n",
      " geoGoldBHexp5 OpenRouteService 215.411691   0.450277     446.187607     148.459274         0.9904       0.4006\n",
      " geoGoldBHexp6 OpenRouteService 221.030496   0.545940     442.133290     155.460776         0.9906       0.3908\n",
      " geoGoldBHexp7 OpenRouteService   7.574040   7.585665       3.281047       7.597740         1.0000       0.0146\n",
      " geoGoldBHexp8 OpenRouteService 152.061311   7.894395     379.053022      86.883669         0.9512       0.0672\n",
      " geoGoldBHexp9 OpenRouteService   7.867047   7.587377      15.029207       7.599037         0.9958       0.0148\n",
      "geoGoldBHexp10 OpenRouteService   5.828340   6.606720      20.905763       5.322782         0.9998       0.2478\n",
      "\n",
      "------------------------------------------------------\n",
      "\n"
     ]
    }
   ],
   "source": [
    "# Supondo que você já tenha gerado o DataFrame 'metricas' conforme descrito\n",
    "\n",
    "# Iterar sobre cada geoapi_id na lista nome_apis\n",
    "for nome_a in nome_apis:\n",
    "    print(f\"Tabela para {nome_a}:\\n\")\n",
    "    \n",
    "    # Filtrar o DataFrame metricas para a geoapi_id atual\n",
    "    tabela_api = metricas[metricas['api'] == nome_a]\n",
    "    \n",
    "    # Imprimir a tabela formatada\n",
    "    print(tabela_api.to_string(index=False))  # Esta linha imprime a tabela formatada, sem índices\n",
    "    print(\"\\n------------------------------------------------------\\n\")  # Separação entre as tabelas\n"
   ]
  },
  {
   "cell_type": "markdown",
   "metadata": {},
   "source": [
    "## Tabela São Paulo"
   ]
  },
  {
   "cell_type": "code",
   "execution_count": 17,
   "metadata": {},
   "outputs": [
    {
     "name": "stderr",
     "output_type": "stream",
     "text": [
      "/tmp/ipykernel_26320/928719559.py:16: FutureWarning: The behavior of DataFrame concatenation with empty or all-NA entries is deprecated. In a future version, this will no longer exclude empty or all-NA columns when determining the result dtypes. To retain the old behavior, exclude the relevant entries before the concat operation.\n",
      "  metricas = pd.concat([metricas, pd.DataFrame([m])], ignore_index=True)\n"
     ]
    }
   ],
   "source": [
    "nome_apis = ['MapBox','Google', 'TomTom', 'OpenRouteService']\n",
    "\n",
    "metricas = pd.DataFrame(columns=['experimento','api', 'media', 'mediana', 'desvio_padrao', 'media_aparada', 'taxa_resposta', 'taxa_acerto'])\n",
    "\n",
    "for nome in nome_experimentosSP:\n",
    "    df = pd.read_csv(f'{nome}_erro.csv')\n",
    "    for nome_a in nome_apis:\n",
    "        api = df[df['geoapi_id' ] == nome_a]\n",
    "        api = api.drop_duplicates(subset='request_id', keep='first')\n",
    "    \n",
    "        n = 5000 #qtd de endereços total\n",
    "        acertos = len(api[api['erro'] <= 0.150])\n",
    "\n",
    "        m = {'experimento': nome,'api': nome_a, 'media':api['erro'].mean(), 'mediana':api['erro'].median(), 'desvio_padrao':api['erro'].std(), 'media_aparada':trim_mean(api['erro'], 0.05), 'taxa_resposta':(api.shape[0]/n), 'taxa_acerto':(acertos/n)}\n",
    "\n",
    "        metricas = pd.concat([metricas, pd.DataFrame([m])], ignore_index=True)\n",
    "\n",
    "\n",
    "metricas.to_csv('metricasExpBH.csv')"
   ]
  },
  {
   "cell_type": "code",
   "execution_count": 18,
   "metadata": {},
   "outputs": [
    {
     "name": "stdout",
     "output_type": "stream",
     "text": [
      "Tabela para MapBox:\n",
      "\n",
      "  experimento    api     media  mediana  desvio_padrao  media_aparada  taxa_resposta  taxa_acerto\n",
      "geoGoldSPexp1 MapBox  9.885009 0.264745      33.929581       5.545753         0.9750       0.4178\n",
      "geoGoldSPexp2 MapBox 13.914447 0.481439      36.798156       8.848430         0.9778       0.3704\n",
      "geoGoldSPexp3 MapBox 12.998989 0.287323      46.743396       6.338832         0.9920       0.4126\n",
      "geoGoldSPexp4 MapBox  9.059893 0.287323      28.821270       5.833966         0.9784       0.4090\n",
      "geoGoldSPexp5 MapBox 13.102779 0.287323      54.305399       6.421116         0.9800       0.4010\n",
      "\n",
      "------------------------------------------------------\n",
      "\n",
      "Tabela para Google:\n",
      "\n",
      "  experimento    api    media  mediana  desvio_padrao  media_aparada  taxa_resposta  taxa_acerto\n",
      "geoGoldSPexp1 Google 4.084331 0.136854      10.741415       2.554311         0.9988       0.5080\n",
      "geoGoldSPexp2 Google 6.290936 0.174920      21.319549       4.575344         0.9986       0.4854\n",
      "geoGoldSPexp3 Google 7.252604 0.177119      23.235726       5.262855         0.9988       0.4842\n",
      "geoGoldSPexp4 Google 9.891182 0.177119      66.380809       4.808587         0.9988       0.4842\n",
      "geoGoldSPexp5 Google 6.657890 0.183598      24.621577       4.687355         0.9990       0.4800\n",
      "\n",
      "------------------------------------------------------\n",
      "\n",
      "Tabela para TomTom:\n",
      "\n",
      "  experimento    api   media  mediana  desvio_padrao  media_aparada  taxa_resposta  taxa_acerto\n",
      "geoGoldSPexp1 TomTom     NaN      NaN            NaN            NaN         0.0000       0.0000\n",
      "geoGoldSPexp2 TomTom     NaN      NaN            NaN            NaN         0.0000       0.0000\n",
      "geoGoldSPexp3 TomTom     NaN      NaN            NaN            NaN         0.0000       0.0000\n",
      "geoGoldSPexp4 TomTom     NaN      NaN            NaN            NaN         0.0000       0.0000\n",
      "geoGoldSPexp5 TomTom 7.40311  0.10373      27.670287       3.574951         0.2048       0.1112\n",
      "\n",
      "------------------------------------------------------\n",
      "\n",
      "Tabela para OpenRouteService:\n",
      "\n",
      "  experimento              api      media   mediana  desvio_padrao  media_aparada  taxa_resposta  taxa_acerto\n",
      "geoGoldSPexp1 OpenRouteService   8.016763  0.346648      16.978958       6.323177         0.9986       0.2894\n",
      "geoGoldSPexp2 OpenRouteService 149.089363 23.343768     368.646520      80.847362         0.9950       0.0530\n",
      "geoGoldSPexp3 OpenRouteService  22.615834 23.022681       9.940436      22.497670         0.9988       0.0014\n",
      "geoGoldSPexp4 OpenRouteService 111.728383 16.604444     356.468299      45.451290         0.9900       0.1494\n",
      "geoGoldSPexp5 OpenRouteService  19.782864 19.499381      23.891962      18.967053         0.9996       0.0104\n",
      "\n",
      "------------------------------------------------------\n",
      "\n"
     ]
    }
   ],
   "source": [
    "# Supondo que você já tenha gerado o DataFrame 'metricas' conforme descrito\n",
    "\n",
    "# Iterar sobre cada geoapi_id na lista nome_apis\n",
    "for nome_a in nome_apis:\n",
    "    print(f\"Tabela para {nome_a}:\\n\")\n",
    "    \n",
    "    # Filtrar o DataFrame metricas para a geoapi_id atual\n",
    "    tabela_api = metricas[metricas['api'] == nome_a]\n",
    "    \n",
    "    # Imprimir a tabela formatada\n",
    "    print(tabela_api.to_string(index=False))  # Esta linha imprime a tabela formatada, sem índices\n",
    "    print(\"\\n------------------------------------------------------\\n\")  # Separação entre as tabelas\n"
   ]
  },
  {
   "cell_type": "code",
   "execution_count": null,
   "metadata": {},
   "outputs": [],
   "source": []
  }
 ],
 "metadata": {
  "kernelspec": {
   "display_name": "base",
   "language": "python",
   "name": "python3"
  },
  "language_info": {
   "codemirror_mode": {
    "name": "ipython",
    "version": 3
   },
   "file_extension": ".py",
   "mimetype": "text/x-python",
   "name": "python",
   "nbconvert_exporter": "python",
   "pygments_lexer": "ipython3",
   "version": "3.10.12"
  }
 },
 "nbformat": 4,
 "nbformat_minor": 2
}
