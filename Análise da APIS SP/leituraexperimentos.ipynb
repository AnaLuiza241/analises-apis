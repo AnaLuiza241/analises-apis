{
 "cells": [
  {
   "cell_type": "code",
   "execution_count": 1,
   "metadata": {},
   "outputs": [],
   "source": [
    "import pandas as pd\n",
    "import psycopg2\n"
   ]
  },
  {
   "cell_type": "code",
   "execution_count": 2,
   "metadata": {},
   "outputs": [],
   "source": [
    "request_id = 2852600\n",
    "query = f'select res.geoapi_id, res.request_id, res.latitude, res.longitude, res.accuracy, req.full_address from \"Response\" as res join \"Request\" as req on res.request_id = req.request_id  where res.request_id >= {request_id}'"
   ]
  },
  {
   "cell_type": "code",
   "execution_count": 3,
   "metadata": {},
   "outputs": [],
   "source": [
    "\n",
    "con = psycopg2.connect( host='34.23.173.147',\n",
    "                            database='SGM',\n",
    "                            user='terralab', \n",
    "                            password='terralab0705')\n",
    "cur = con.cursor()"
   ]
  },
  {
   "cell_type": "code",
   "execution_count": 4,
   "metadata": {},
   "outputs": [
    {
     "data": {
      "text/plain": [
       "237753"
      ]
     },
     "execution_count": 4,
     "metadata": {},
     "output_type": "execute_result"
    }
   ],
   "source": [
    "cur.execute(query)\n",
    "recset = cur.fetchall()\n",
    "len(recset)"
   ]
  },
  {
   "cell_type": "code",
   "execution_count": 5,
   "metadata": {},
   "outputs": [
    {
     "data": {
      "text/html": [
       "<div>\n",
       "<style scoped>\n",
       "    .dataframe tbody tr th:only-of-type {\n",
       "        vertical-align: middle;\n",
       "    }\n",
       "\n",
       "    .dataframe tbody tr th {\n",
       "        vertical-align: top;\n",
       "    }\n",
       "\n",
       "    .dataframe thead th {\n",
       "        text-align: right;\n",
       "    }\n",
       "</style>\n",
       "<table border=\"1\" class=\"dataframe\">\n",
       "  <thead>\n",
       "    <tr style=\"text-align: right;\">\n",
       "      <th></th>\n",
       "      <th>geoapi_id</th>\n",
       "      <th>request_id</th>\n",
       "      <th>lat</th>\n",
       "      <th>long</th>\n",
       "      <th>accuracy</th>\n",
       "      <th>endereço</th>\n",
       "    </tr>\n",
       "  </thead>\n",
       "  <tbody>\n",
       "    <tr>\n",
       "      <th>0</th>\n",
       "      <td>Google</td>\n",
       "      <td>2852600</td>\n",
       "      <td>-19.831190</td>\n",
       "      <td>-43.903133</td>\n",
       "      <td>NaN</td>\n",
       "      <td>RUA TRES, 138, BELO HORIZONTE, MG</td>\n",
       "    </tr>\n",
       "    <tr>\n",
       "      <th>1</th>\n",
       "      <td>OpenRouteService</td>\n",
       "      <td>2852600</td>\n",
       "      <td>-19.960829</td>\n",
       "      <td>-43.996589</td>\n",
       "      <td>1.000000</td>\n",
       "      <td>RUA TRES, 138, BELO HORIZONTE, MG</td>\n",
       "    </tr>\n",
       "    <tr>\n",
       "      <th>2</th>\n",
       "      <td>TomTom</td>\n",
       "      <td>2852600</td>\n",
       "      <td>-19.829050</td>\n",
       "      <td>-43.867790</td>\n",
       "      <td>11.958313</td>\n",
       "      <td>RUA TRES, 138, BELO HORIZONTE, MG</td>\n",
       "    </tr>\n",
       "    <tr>\n",
       "      <th>3</th>\n",
       "      <td>MapBox</td>\n",
       "      <td>2852600</td>\n",
       "      <td>-19.850858</td>\n",
       "      <td>-43.888999</td>\n",
       "      <td>1.000000</td>\n",
       "      <td>RUA TRES, 138, BELO HORIZONTE, MG</td>\n",
       "    </tr>\n",
       "    <tr>\n",
       "      <th>4</th>\n",
       "      <td>OpenRouteService</td>\n",
       "      <td>2852601</td>\n",
       "      <td>-19.926361</td>\n",
       "      <td>-44.006293</td>\n",
       "      <td>0.800000</td>\n",
       "      <td>RODOVIA PRESIDENTE JUSCELINO KUBITSCHEK, 1156,...</td>\n",
       "    </tr>\n",
       "  </tbody>\n",
       "</table>\n",
       "</div>"
      ],
      "text/plain": [
       "          geoapi_id  request_id        lat       long   accuracy  \\\n",
       "0            Google     2852600 -19.831190 -43.903133        NaN   \n",
       "1  OpenRouteService     2852600 -19.960829 -43.996589   1.000000   \n",
       "2            TomTom     2852600 -19.829050 -43.867790  11.958313   \n",
       "3            MapBox     2852600 -19.850858 -43.888999   1.000000   \n",
       "4  OpenRouteService     2852601 -19.926361 -44.006293   0.800000   \n",
       "\n",
       "                                            endereço  \n",
       "0                  RUA TRES, 138, BELO HORIZONTE, MG  \n",
       "1                  RUA TRES, 138, BELO HORIZONTE, MG  \n",
       "2                  RUA TRES, 138, BELO HORIZONTE, MG  \n",
       "3                  RUA TRES, 138, BELO HORIZONTE, MG  \n",
       "4  RODOVIA PRESIDENTE JUSCELINO KUBITSCHEK, 1156,...  "
      ]
     },
     "execution_count": 5,
     "metadata": {},
     "output_type": "execute_result"
    }
   ],
   "source": [
    "geo = pd.DataFrame(recset, columns = ['geoapi_id', 'request_id', 'lat', 'long', 'accuracy', 'endereço'])\n",
    "geo = geo.sort_values(by='request_id')\n",
    "geo = geo.reset_index(drop=True)\n",
    "geo.head()"
   ]
  },
  {
   "cell_type": "code",
   "execution_count": 6,
   "metadata": {},
   "outputs": [
    {
     "data": {
      "text/html": [
       "<div>\n",
       "<style scoped>\n",
       "    .dataframe tbody tr th:only-of-type {\n",
       "        vertical-align: middle;\n",
       "    }\n",
       "\n",
       "    .dataframe tbody tr th {\n",
       "        vertical-align: top;\n",
       "    }\n",
       "\n",
       "    .dataframe thead th {\n",
       "        text-align: right;\n",
       "    }\n",
       "</style>\n",
       "<table border=\"1\" class=\"dataframe\">\n",
       "  <thead>\n",
       "    <tr style=\"text-align: right;\">\n",
       "      <th></th>\n",
       "      <th>SIGLA_TIPO_LOGRADOURO</th>\n",
       "      <th>NOME_LOGRADOURO</th>\n",
       "      <th>NUMERO_IMOVEL</th>\n",
       "      <th>NOME_BAIRRO_OFICIAL</th>\n",
       "      <th>LONGITUDE</th>\n",
       "      <th>LATITUDE</th>\n",
       "    </tr>\n",
       "  </thead>\n",
       "  <tbody>\n",
       "    <tr>\n",
       "      <th>0</th>\n",
       "      <td>RUA</td>\n",
       "      <td>TRES</td>\n",
       "      <td>138</td>\n",
       "      <td>do Trevo</td>\n",
       "      <td>-19.830689</td>\n",
       "      <td>-44.016639</td>\n",
       "    </tr>\n",
       "    <tr>\n",
       "      <th>1</th>\n",
       "      <td>ROD</td>\n",
       "      <td>PRESIDENTE JUSCELINO KUBITSCHEK</td>\n",
       "      <td>1156</td>\n",
       "      <td>do Pilar</td>\n",
       "      <td>-20.002710</td>\n",
       "      <td>-43.965776</td>\n",
       "    </tr>\n",
       "    <tr>\n",
       "      <th>2</th>\n",
       "      <td>RUA</td>\n",
       "      <td>ABEL ARAUJO</td>\n",
       "      <td>759</td>\n",
       "      <td>Santa Lúcia</td>\n",
       "      <td>-19.961796</td>\n",
       "      <td>-43.954117</td>\n",
       "    </tr>\n",
       "    <tr>\n",
       "      <th>3</th>\n",
       "      <td>RUA</td>\n",
       "      <td>CARMO DO PARANAIBA</td>\n",
       "      <td>178</td>\n",
       "      <td>Itapoã</td>\n",
       "      <td>-19.834004</td>\n",
       "      <td>-43.963779</td>\n",
       "    </tr>\n",
       "    <tr>\n",
       "      <th>4</th>\n",
       "      <td>AVE</td>\n",
       "      <td>NOSSA SENHORA DA SAUDE</td>\n",
       "      <td>138</td>\n",
       "      <td>Pirajá</td>\n",
       "      <td>-19.866098</td>\n",
       "      <td>-43.911979</td>\n",
       "    </tr>\n",
       "  </tbody>\n",
       "</table>\n",
       "</div>"
      ],
      "text/plain": [
       "  SIGLA_TIPO_LOGRADOURO                  NOME_LOGRADOURO  NUMERO_IMOVEL  \\\n",
       "0                   RUA                             TRES            138   \n",
       "1                   ROD  PRESIDENTE JUSCELINO KUBITSCHEK           1156   \n",
       "2                   RUA                      ABEL ARAUJO            759   \n",
       "3                   RUA               CARMO DO PARANAIBA            178   \n",
       "4                   AVE           NOSSA SENHORA DA SAUDE            138   \n",
       "\n",
       "  NOME_BAIRRO_OFICIAL  LONGITUDE   LATITUDE  \n",
       "0            do Trevo -19.830689 -44.016639  \n",
       "1            do Pilar -20.002710 -43.965776  \n",
       "2         Santa Lúcia -19.961796 -43.954117  \n",
       "3              Itapoã -19.834004 -43.963779  \n",
       "4              Pirajá -19.866098 -43.911979  "
      ]
     },
     "execution_count": 6,
     "metadata": {},
     "output_type": "execute_result"
    }
   ],
   "source": [
    "gold = pd.read_csv('amostraBH5mil.csv')\n",
    "gold = gold[['SIGLA_TIPO_LOGRADOURO', 'NOME_LOGRADOURO', 'NUMERO_IMOVEL', 'NOME_BAIRRO_OFICIAL',\n",
    "'LONGITUDE','LATITUDE']]\n",
    "\n",
    "gold.head()"
   ]
  },
  {
   "cell_type": "code",
   "execution_count": null,
   "metadata": {},
   "outputs": [],
   "source": [
    "import pandas as pd\n",
    "\n",
    "# Suponha que df seja o seu DataFrame com o campo request_id\n",
    "# Suponha que gold seja o DataFrame 'gold'\n",
    "# Suponha que geo seja o DataFrame 'geo'\n",
    "\n",
    "# Criando uma lista para armazenar os grupos\n",
    "lista = []\n",
    "\n",
    "# Definindo o número total de grupos de 5 mil endereços\n",
    "num_grupos = 10\n",
    "tamanho_grupo = 5000\n",
    "\n",
    "# Loop para separar o DataFrame em grupos, ajustar 'request_id' do DataFrame 'gold' e mesclar com 'gold'\n",
    "for i in range(num_grupos):\n",
    "    # Calculando o intervalo para cada grupo\n",
    "    start_id = 2852600 + (i * tamanho_grupo)\n",
    "    end_id = start_id + tamanho_grupo - 1\n",
    "    \n",
    "    # Filtrando o DataFrame para obter o grupo atual\n",
    "    grupo = geo[(geo['request_id'] >= start_id) & (geo['request_id'] <= end_id)]\n",
    "    \n",
    "    # Ajustando o 'request_id' do DataFrame 'gold' para o grupo atual\n",
    "    gold['id'] = range(start_id, end_id + 1)\n",
    "    \n",
    "    # Realizando a mesclagem (merge) entre o grupo atual e o DataFrame 'gold' usando o 'geo' filtrado\n",
    "    result_df = gold.merge(geo, how='inner', left_on='id', right_on='request_id')\n",
    "    \n",
    "    # Salvando o DataFrame resultante em um arquivo CSV com nome correspondente ao grupo\n",
    "    nome_arquivo = f'geoGoldBHexp{i+1}.csv'  # Incrementando i+1 para nomear os arquivos de 1 a num_grupos\n",
    "    result_df.to_csv(nome_arquivo, index=False)\n",
    "    \n",
    "    # Adicionando o grupo à lista (opcional, se desejar manter a lista de grupos separados)\n",
    "    #lista.append(grupo)\n"
   ]
  },
  {
   "cell_type": "code",
   "execution_count": 8,
   "metadata": {},
   "outputs": [
    {
     "data": {
      "text/html": [
       "<div>\n",
       "<style scoped>\n",
       "    .dataframe tbody tr th:only-of-type {\n",
       "        vertical-align: middle;\n",
       "    }\n",
       "\n",
       "    .dataframe tbody tr th {\n",
       "        vertical-align: top;\n",
       "    }\n",
       "\n",
       "    .dataframe thead th {\n",
       "        text-align: right;\n",
       "    }\n",
       "</style>\n",
       "<table border=\"1\" class=\"dataframe\">\n",
       "  <thead>\n",
       "    <tr style=\"text-align: right;\">\n",
       "      <th></th>\n",
       "      <th>geoapi_id</th>\n",
       "      <th>request_id</th>\n",
       "      <th>lat</th>\n",
       "      <th>long</th>\n",
       "      <th>accuracy</th>\n",
       "      <th>endereço</th>\n",
       "    </tr>\n",
       "  </thead>\n",
       "  <tbody>\n",
       "  </tbody>\n",
       "</table>\n",
       "</div>"
      ],
      "text/plain": [
       "Empty DataFrame\n",
       "Columns: [geoapi_id, request_id, lat, long, accuracy, endereço]\n",
       "Index: []"
      ]
     },
     "execution_count": 8,
     "metadata": {},
     "output_type": "execute_result"
    }
   ],
   "source": [
    "teste = geo[geo['request_id'] > 2907599]\n",
    "teste"
   ]
  },
  {
   "cell_type": "code",
   "execution_count": null,
   "metadata": {},
   "outputs": [],
   "source": [
    "import pandas as pd\n",
    "import psycopg2\n",
    "\n",
    "con = psycopg2.connect( host='34.23.173.147',\n",
    "                            database='SGM',\n",
    "                            user='terralab', \n",
    "                            password='terralab0705')\n",
    "cur = con.cursor()\n",
    "\n",
    "query = 'select request_id from \"Request\"  where request_id >= 2852600'\n",
    "\n",
    "cur.execute(query)\n",
    "recset = cur.fetchall()\n",
    "#len(recset)\n",
    "\n",
    "geo = pd.DataFrame(recset, columns = ['request_id'])\n",
    "geo = geo.sort_values(by='request_id')\n",
    "geo = geo.reset_index(drop=True)\n",
    "geo.head()\n"
   ]
  },
  {
   "cell_type": "code",
   "execution_count": null,
   "metadata": {},
   "outputs": [],
   "source": [
    "geo.to_csv('teste.csv')"
   ]
  },
  {
   "cell_type": "code",
   "execution_count": null,
   "metadata": {},
   "outputs": [],
   "source": []
  }
 ],
 "metadata": {
  "kernelspec": {
   "display_name": "base",
   "language": "python",
   "name": "python3"
  },
  "language_info": {
   "codemirror_mode": {
    "name": "ipython",
    "version": 3
   },
   "file_extension": ".py",
   "mimetype": "text/x-python",
   "name": "python",
   "nbconvert_exporter": "python",
   "pygments_lexer": "ipython3",
   "version": "3.11.3"
  }
 },
 "nbformat": 4,
 "nbformat_minor": 2
}
