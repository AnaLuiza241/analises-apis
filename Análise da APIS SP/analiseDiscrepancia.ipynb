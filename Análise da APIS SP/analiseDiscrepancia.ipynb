{
 "cells": [
  {
   "cell_type": "code",
   "execution_count": null,
   "metadata": {},
   "outputs": [],
   "source": [
    "import pandas as pd\n",
    "import numpy as np\n",
    "import scipy\n",
    "import statistics\n",
    "import matplotlib.pyplot as plt\n",
    "from geopy import distance\n",
    "from scipy.stats import pearsonr "
   ]
  },
  {
   "cell_type": "markdown",
   "metadata": {},
   "source": [
    "Preparação do Dataframe para análise"
   ]
  },
  {
   "cell_type": "code",
   "execution_count": null,
   "metadata": {},
   "outputs": [],
   "source": [
    "df = pd.read_csv('geoGold_erro.csv')\n",
    "\n",
    "df.dropna(subset=['request_id'], inplace=True)\n",
    "requests = df['request_id'].unique()\n",
    "\n",
    "df = df[['request_id', 'lat', 'long','erro', 'geoapi_id']]\n",
    "\n",
    "df_mapbox = df[df['geoapi_id'] == 'MapBox']\n",
    "df_tomtom = df[df['geoapi_id'] == 'TomTom']\n",
    "df_google = df[df['geoapi_id'] == 'Google']\n",
    "df_ors = df[df['geoapi_id'] == 'OpenRouteService']\n"
   ]
  },
  {
   "cell_type": "code",
   "execution_count": null,
   "metadata": {},
   "outputs": [],
   "source": [
    "column_mapping = {\n",
    "    'lat_x': 'lat_M',\n",
    "    'long_x': 'long_M',\n",
    "    'erro_x': 'erro_M',\n",
    "    'geoapi_id_x': 'geoapi_id_M',\n",
    "    'lat_y': 'lat_T',\n",
    "    'long_y': 'long_T',\n",
    "    'erro_y': 'erro_T',\n",
    "    'geoapi_id_y': 'geoapi_id_T',\n",
    "    'lat_x': 'lat_O',\n",
    "    'long_x': 'long_O',\n",
    "    'erro_x': 'erro_O',\n",
    "    'geoapi_id_x': 'geoapi_id_O',\n",
    "    'lat_y': 'lat_G',\n",
    "    'long_y': 'long_G',\n",
    "    'erro_y': 'erro_G',\n",
    "    'geoapi_id_y': 'geoapi_id_G'\n",
    "}"
   ]
  },
  {
   "cell_type": "code",
   "execution_count": null,
   "metadata": {},
   "outputs": [],
   "source": [
    "# Lista de todos os dataframes\n",
    "dataframes = [df_mapbox, df_tomtom, df_ors]\n",
    "\n",
    "# Fazer um inner join para obter apenas os request_ids presentes em todos os dataframes\n",
    "merged_df = dataframes[0]\n",
    "for df in dataframes[1:]:\n",
    "    merged_df = pd.merge(merged_df, df, on='request_id', how='inner')\n",
    "\n",
    "# Renomear as colunas\n",
    "merged_df.rename(columns={'lat_x': 'lat_M',\n",
    "    'long_x': 'long_M',\n",
    "    'erro_x': 'erro_M',\n",
    "    'geoapi_id_x': 'geoapi_id_M',\n",
    "    'lat_y': 'lat_T',\n",
    "    'long_y': 'long_T',\n",
    "    'erro_y': 'erro_T',\n",
    "    'geoapi_id_y': 'geoapi_id_T',\n",
    "    'lat': 'lat_O',\n",
    "    'long': 'long_O',\n",
    "    'erro': 'erro_O',\n",
    "    'geoapi_id': 'geoapi_id_O'}, inplace=True)\n",
    "\n",
    "merged_df = pd.merge(merged_df, df_google, on='request_id', how='inner')\n",
    "merged_df.rename(columns={'lat': 'lat_G',\n",
    "    'long': 'long_G',\n",
    "    'erro': 'erro_G',\n",
    "    'geoapi_id': 'geoapi_id_G'}, inplace=True)\n",
    "\n",
    "print(merged_df.columns)\n",
    "print(merged_df.head(2))\n",
    "\n",
    "    "
   ]
  },
  {
   "cell_type": "markdown",
   "metadata": {},
   "source": [
    "Covariância"
   ]
  },
  {
   "cell_type": "code",
   "execution_count": null,
   "metadata": {},
   "outputs": [],
   "source": [
    "cv_lat = []\n",
    "cv_lon = []\n",
    "cv_media = []\n",
    "\n",
    "for i in range(merged_df.shape[0]):\n",
    "    row = [merged_df.iloc[i]['lat_M'], merged_df.iloc[i]['lat_T'], merged_df.iloc[i]['lat_O'], merged_df.iloc[i]['lat_G']]\n",
    "    cv_lat.append(np.std(row)/np.abs(np.mean(row)))\n",
    "    row = [merged_df.iloc[i]['long_M'], merged_df.iloc[i]['long_T'],  merged_df.iloc[i]['long_O'],  merged_df.iloc[i]['long_G']]\n",
    "    cv_lon.append(np.std(row)/np.abs(np.mean(row)))\n",
    "    #print(cv_lon[-1])\n",
    "    #print(cv_lat[-1])\n",
    "\n",
    "cv_lat = np.array(cv_lat)\n",
    "cv_lon = np.array(cv_lon)\n",
    "cv_media = cv_lat+cv_lon/2"
   ]
  },
  {
   "cell_type": "code",
   "execution_count": null,
   "metadata": {},
   "outputs": [],
   "source": [
    "nMapbox = len(cv_media)/df_mapbox.shape[0]\n",
    "nTomTom = len(cv_media)/df_tomtom.shape[0]\n",
    "nGoogle = len(cv_media)/df_google.shape[0]\n",
    "nOrs = len(cv_media)/df_ors.shape[0]\n",
    "\n",
    "print(nMapbox,nTomTom,nGoogle, nOrs)"
   ]
  },
  {
   "cell_type": "code",
   "execution_count": null,
   "metadata": {},
   "outputs": [],
   "source": [
    "len(merged_df)"
   ]
  },
  {
   "cell_type": "code",
   "execution_count": null,
   "metadata": {},
   "outputs": [],
   "source": [
    "coeCovM, _ = pearsonr(cv_media, merged_df['erro_M']) \n",
    "coeCovT, _ = pearsonr(cv_media, merged_df['erro_T'])\n",
    "coeCovG, _ = pearsonr(cv_media, merged_df['erro_G'])\n",
    "coeCovO, _ = pearsonr(cv_media, merged_df['erro_O'])\n",
    "\n",
    "print('Coeficientes de Correlação Covariância:')\n",
    "print('Mapbox: ', coeCovM)\n",
    "print('TomTom: ', coeCovT)\n",
    "print('Google: ', coeCovG)\n",
    "print('ORS: ', coeCovO)"
   ]
  },
  {
   "cell_type": "code",
   "execution_count": null,
   "metadata": {},
   "outputs": [],
   "source": [
    "# Seu código para criar o gráfico\n",
    "plt.plot(cv_media, merged_df['erro_M'], '.')\n",
    "\n",
    "# Adicione um título ao gráfico\n",
    "plt.title('Error x Covariance - Mapbox')\n",
    "\n",
    "# Adicione rótulos para os eixos x e y\n",
    "plt.xlabel('Covariance')\n",
    "plt.ylabel('Error (Km)')\n",
    "\n",
    "# Mostra o gráfico\n",
    "plt.show()\n"
   ]
  },
  {
   "cell_type": "code",
   "execution_count": null,
   "metadata": {},
   "outputs": [],
   "source": [
    "# Seu código para criar o gráfico\n",
    "plt.plot(cv_media, merged_df['erro_T'], '.')\n",
    "\n",
    "# Adicione um título ao gráfico\n",
    "plt.title('Error x Covariance - TomTom')\n",
    "\n",
    "# Adicione rótulos para os eixos x e y\n",
    "plt.xlabel('Covariance')\n",
    "plt.ylabel('Error (Km)')\n",
    "\n",
    "# Mostra o gráfico\n",
    "plt.show()\n"
   ]
  },
  {
   "cell_type": "code",
   "execution_count": null,
   "metadata": {},
   "outputs": [],
   "source": [
    "# Seu código para criar o gráfico\n",
    "plt.plot(cv_media, merged_df['erro_G'], '.')\n",
    "\n",
    "# Adicione um título ao gráfico\n",
    "plt.title('Error x Covariance - Google Maps')\n",
    "\n",
    "# Adicione rótulos para os eixos x e y\n",
    "plt.xlabel('Covariance')\n",
    "plt.ylabel('Error (Km)')\n",
    "\n",
    "# Mostra o gráfico\n",
    "plt.show()\n"
   ]
  },
  {
   "cell_type": "code",
   "execution_count": null,
   "metadata": {},
   "outputs": [],
   "source": [
    "# Seu código para criar o gráfico\n",
    "plt.plot(cv_media, merged_df['erro_O'], '.')\n",
    "\n",
    "# Adicione um título ao gráfico\n",
    "plt.title('Error x Covariance - ORS')\n",
    "\n",
    "# Adicione rótulos para os eixos x e y\n",
    "plt.xlabel('Covariance')\n",
    "plt.ylabel('Error (Km)')\n",
    "\n",
    "# Mostra o gráfico\n",
    "plt.show()\n"
   ]
  },
  {
   "cell_type": "code",
   "execution_count": null,
   "metadata": {},
   "outputs": [],
   "source": [
    "cv_media.shape"
   ]
  },
  {
   "cell_type": "code",
   "execution_count": null,
   "metadata": {},
   "outputs": [],
   "source": [
    "# Calcular as médias das latitudes e longitudes\n",
    "merged_df['lat_medio'] = merged_df[['lat_M', 'lat_T', 'lat_O', 'lat_G']].mean(axis=1)\n",
    "merged_df['lon_medio'] = merged_df[['long_M', 'long_T', 'long_O', 'long_G']].mean(axis=1)\n"
   ]
  },
  {
   "cell_type": "code",
   "execution_count": null,
   "metadata": {},
   "outputs": [],
   "source": [
    "ponto_medio = pd.DataFrame()\n",
    "ponto_medio['Mapbox'] = merged_df.apply(lambda row: distance.distance((row['lat_M'], row['long_M']), (row['lat_medio'], row['lon_medio'])).km if pd.notnull(row['lat_medio']) and pd.notnull(row['lon_medio']) else None, axis=1)\n",
    "ponto_medio['Tomtom'] = merged_df.apply(lambda row: distance.distance((row['lat_T'], row['long_T']), (row['lat_medio'], row['lon_medio'])).km if pd.notnull(row['lat_medio']) and pd.notnull(row['lon_medio']) else None, axis=1)\n",
    "ponto_medio['ORS'] = merged_df.apply(lambda row: distance.distance((row['lat_O'], row['long_O']), (row['lat_medio'], row['lon_medio'])).km if pd.notnull(row['lat_medio']) and pd.notnull(row['lon_medio']) else None, axis=1)\n",
    "ponto_medio['Google'] = merged_df.apply(lambda row: distance.distance((row['lat_G'], row['long_G']), (row['lat_medio'], row['lon_medio'])).km if pd.notnull(row['lat_medio']) and pd.notnull(row['lon_medio']) else None, axis=1)\n"
   ]
  },
  {
   "cell_type": "code",
   "execution_count": null,
   "metadata": {},
   "outputs": [],
   "source": [
    "ponto_medio"
   ]
  },
  {
   "cell_type": "code",
   "execution_count": null,
   "metadata": {},
   "outputs": [],
   "source": [
    "coePmM, _ = pearsonr(ponto_medio['Mapbox'], merged_df['erro_M']) \n",
    "coePmT, _ = pearsonr(ponto_medio['Tomtom'], merged_df['erro_T'])\n",
    "coePmG, _ = pearsonr(ponto_medio['Google'], merged_df['erro_G'])\n",
    "coePmO, _ = pearsonr(ponto_medio['ORS'], merged_df['erro_O'])\n",
    "\n",
    "print('Coeficientes de Correlação Ponto Médio:')\n",
    "print('Mapbox: ', coePmM)\n",
    "print('TomTom: ', coePmT)\n",
    "print('Google: ', coePmG)\n",
    "print('ORS: ', coePmO)"
   ]
  },
  {
   "cell_type": "code",
   "execution_count": null,
   "metadata": {},
   "outputs": [],
   "source": [
    "# Seu código para criar o gráfico\n",
    "plt.plot(ponto_medio['Mapbox'], merged_df['erro_M'], '.')\n",
    "\n",
    "# Adicione um título ao gráfico\n",
    "plt.title('Error x Midpoint Distance - Mapbox')\n",
    "\n",
    "# Adicione rótulos para os eixos x e y\n",
    "plt.xlabel('Midpoint Distance (Km)')\n",
    "plt.ylabel('Error (Km)')\n",
    "\n",
    "# Mostra o gráfico\n",
    "plt.show()"
   ]
  },
  {
   "cell_type": "code",
   "execution_count": null,
   "metadata": {},
   "outputs": [],
   "source": [
    "# Seu código para criar o gráfico\n",
    "plt.plot(ponto_medio['Tomtom'], merged_df['erro_T'], '.')\n",
    "\n",
    "# Adicione um título ao gráfico\n",
    "plt.title('Error x Midpoint Distance - Tomtom')\n",
    "\n",
    "# Adicione rótulos para os eixos x e y\n",
    "plt.xlabel('Midpoint Distance (Km)')\n",
    "plt.ylabel('Error (Km)')\n",
    "\n",
    "# Mostra o gráfico\n",
    "plt.show()"
   ]
  },
  {
   "cell_type": "code",
   "execution_count": null,
   "metadata": {},
   "outputs": [],
   "source": [
    "# Seu código para criar o gráfico\n",
    "plt.plot(ponto_medio['ORS'], merged_df['erro_O'], '.')\n",
    "\n",
    "# Adicione um título ao gráfico\n",
    "plt.title('Error x Midpoint Distance - ORS')\n",
    "\n",
    "# Adicione rótulos para os eixos x e y\n",
    "plt.xlabel('Midpoint Distance (Km)')\n",
    "plt.ylabel('Error (Km)')\n",
    "\n",
    "# Mostra o gráfico\n",
    "plt.show()"
   ]
  },
  {
   "cell_type": "code",
   "execution_count": null,
   "metadata": {},
   "outputs": [],
   "source": [
    "# Seu código para criar o gráfico\n",
    "plt.plot(ponto_medio['Google'], merged_df['erro_G'], '.')\n",
    "\n",
    "# Adicione um título ao gráfico\n",
    "plt.title('Error x Midpoint Distance - Google')\n",
    "\n",
    "# Adicione rótulos para os eixos x e y\n",
    "plt.xlabel('Midpoint Distance (Km)')\n",
    "plt.ylabel('Error (Km)')\n",
    "\n",
    "# Mostra o gráfico\n",
    "plt.show()"
   ]
  },
  {
   "cell_type": "code",
   "execution_count": null,
   "metadata": {},
   "outputs": [],
   "source": []
  }
 ],
 "metadata": {
  "kernelspec": {
   "display_name": "base",
   "language": "python",
   "name": "python3"
  },
  "language_info": {
   "codemirror_mode": {
    "name": "ipython",
    "version": 3
   },
   "file_extension": ".py",
   "mimetype": "text/x-python",
   "name": "python",
   "nbconvert_exporter": "python",
   "pygments_lexer": "ipython3",
   "version": "3.11.3"
  },
  "orig_nbformat": 4
 },
 "nbformat": 4,
 "nbformat_minor": 2
}
