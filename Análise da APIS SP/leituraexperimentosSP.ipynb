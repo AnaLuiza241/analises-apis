{
 "cells": [
  {
   "cell_type": "code",
   "execution_count": 10,
   "metadata": {},
   "outputs": [],
   "source": [
    "import pandas as pd\n",
    "import psycopg2\n"
   ]
  },
  {
   "cell_type": "code",
   "execution_count": 11,
   "metadata": {},
   "outputs": [],
   "source": [
    "request_id = 2912600\n",
    "query = f'select res.geoapi_id, res.request_id, res.latitude, res.longitude, res.accuracy, req.full_address from \"Response\" as res join \"Request\" as req on res.request_id = req.request_id  where res.request_id >= {request_id}'"
   ]
  },
  {
   "cell_type": "code",
   "execution_count": 12,
   "metadata": {},
   "outputs": [],
   "source": [
    "\n",
    "con = psycopg2.connect( host='34.23.173.147',\n",
    "                            database='SGM',\n",
    "                            user='terralab', \n",
    "                            password='terralab0705')\n",
    "cur = con.cursor()"
   ]
  },
  {
   "cell_type": "code",
   "execution_count": 13,
   "metadata": {},
   "outputs": [
    {
     "data": {
      "text/plain": [
       "100399"
      ]
     },
     "execution_count": 13,
     "metadata": {},
     "output_type": "execute_result"
    }
   ],
   "source": [
    "cur.execute(query)\n",
    "recset = cur.fetchall()\n",
    "len(recset)"
   ]
  },
  {
   "cell_type": "code",
   "execution_count": 14,
   "metadata": {},
   "outputs": [
    {
     "data": {
      "text/html": [
       "<div>\n",
       "<style scoped>\n",
       "    .dataframe tbody tr th:only-of-type {\n",
       "        vertical-align: middle;\n",
       "    }\n",
       "\n",
       "    .dataframe tbody tr th {\n",
       "        vertical-align: top;\n",
       "    }\n",
       "\n",
       "    .dataframe thead th {\n",
       "        text-align: right;\n",
       "    }\n",
       "</style>\n",
       "<table border=\"1\" class=\"dataframe\">\n",
       "  <thead>\n",
       "    <tr style=\"text-align: right;\">\n",
       "      <th></th>\n",
       "      <th>geoapi_id</th>\n",
       "      <th>request_id</th>\n",
       "      <th>lat</th>\n",
       "      <th>long</th>\n",
       "      <th>accuracy</th>\n",
       "      <th>endereço</th>\n",
       "    </tr>\n",
       "  </thead>\n",
       "  <tbody>\n",
       "    <tr>\n",
       "      <th>0</th>\n",
       "      <td>Google</td>\n",
       "      <td>2912600</td>\n",
       "      <td>-23.870860</td>\n",
       "      <td>-46.676627</td>\n",
       "      <td>NaN</td>\n",
       "      <td>SAO PAULO, SP, JANE VANINE CAPOZI,         45</td>\n",
       "    </tr>\n",
       "    <tr>\n",
       "      <th>1</th>\n",
       "      <td>OpenRouteService</td>\n",
       "      <td>2912600</td>\n",
       "      <td>-23.570533</td>\n",
       "      <td>-46.663713</td>\n",
       "      <td>0.600000</td>\n",
       "      <td>SAO PAULO, SP, JANE VANINE CAPOZI,         45</td>\n",
       "    </tr>\n",
       "    <tr>\n",
       "      <th>2</th>\n",
       "      <td>MapBox</td>\n",
       "      <td>2912600</td>\n",
       "      <td>-23.870596</td>\n",
       "      <td>-46.676843</td>\n",
       "      <td>0.865661</td>\n",
       "      <td>SAO PAULO, SP, JANE VANINE CAPOZI,         45</td>\n",
       "    </tr>\n",
       "    <tr>\n",
       "      <th>3</th>\n",
       "      <td>Here</td>\n",
       "      <td>2912600</td>\n",
       "      <td>-23.871140</td>\n",
       "      <td>-46.676530</td>\n",
       "      <td>1.000000</td>\n",
       "      <td>SAO PAULO, SP, JANE VANINE CAPOZI,         45</td>\n",
       "    </tr>\n",
       "    <tr>\n",
       "      <th>4</th>\n",
       "      <td>Google</td>\n",
       "      <td>2912601</td>\n",
       "      <td>-23.555771</td>\n",
       "      <td>-46.639557</td>\n",
       "      <td>NaN</td>\n",
       "      <td>SAO PAULO, SP, DOS LIRIOS, 10</td>\n",
       "    </tr>\n",
       "  </tbody>\n",
       "</table>\n",
       "</div>"
      ],
      "text/plain": [
       "          geoapi_id  request_id        lat       long  accuracy  \\\n",
       "0            Google     2912600 -23.870860 -46.676627       NaN   \n",
       "1  OpenRouteService     2912600 -23.570533 -46.663713  0.600000   \n",
       "2            MapBox     2912600 -23.870596 -46.676843  0.865661   \n",
       "3              Here     2912600 -23.871140 -46.676530  1.000000   \n",
       "4            Google     2912601 -23.555771 -46.639557       NaN   \n",
       "\n",
       "                                        endereço  \n",
       "0  SAO PAULO, SP, JANE VANINE CAPOZI,         45  \n",
       "1  SAO PAULO, SP, JANE VANINE CAPOZI,         45  \n",
       "2  SAO PAULO, SP, JANE VANINE CAPOZI,         45  \n",
       "3  SAO PAULO, SP, JANE VANINE CAPOZI,         45  \n",
       "4                  SAO PAULO, SP, DOS LIRIOS, 10  "
      ]
     },
     "execution_count": 14,
     "metadata": {},
     "output_type": "execute_result"
    }
   ],
   "source": [
    "geo = pd.DataFrame(recset, columns = ['geoapi_id', 'request_id', 'lat', 'long', 'accuracy', 'endereço'])\n",
    "geo = geo.sort_values(by='request_id')\n",
    "geo = geo.reset_index(drop=True)\n",
    "geo.head()"
   ]
  },
  {
   "cell_type": "code",
   "execution_count": 15,
   "metadata": {},
   "outputs": [
    {
     "data": {
      "text/html": [
       "<div>\n",
       "<style scoped>\n",
       "    .dataframe tbody tr th:only-of-type {\n",
       "        vertical-align: middle;\n",
       "    }\n",
       "\n",
       "    .dataframe tbody tr th {\n",
       "        vertical-align: top;\n",
       "    }\n",
       "\n",
       "    .dataframe thead th {\n",
       "        text-align: right;\n",
       "    }\n",
       "</style>\n",
       "<table border=\"1\" class=\"dataframe\">\n",
       "  <thead>\n",
       "    <tr style=\"text-align: right;\">\n",
       "      <th></th>\n",
       "      <th>number</th>\n",
       "      <th>street</th>\n",
       "      <th>city</th>\n",
       "      <th>latGold</th>\n",
       "      <th>lonGold</th>\n",
       "    </tr>\n",
       "  </thead>\n",
       "  <tbody>\n",
       "    <tr>\n",
       "      <th>0</th>\n",
       "      <td>45</td>\n",
       "      <td>JANE VANINE CAPOZI</td>\n",
       "      <td>SAO PAULO</td>\n",
       "      <td>-23.868805</td>\n",
       "      <td>-46.678967</td>\n",
       "    </tr>\n",
       "    <tr>\n",
       "      <th>1</th>\n",
       "      <td>10</td>\n",
       "      <td>DOS LIRIOS</td>\n",
       "      <td>SAO PAULO</td>\n",
       "      <td>-23.638449</td>\n",
       "      <td>-46.447187</td>\n",
       "    </tr>\n",
       "    <tr>\n",
       "      <th>2</th>\n",
       "      <td>81</td>\n",
       "      <td>ANTONIO XAVIER</td>\n",
       "      <td>SAO PAULO</td>\n",
       "      <td>-23.475623</td>\n",
       "      <td>-46.427649</td>\n",
       "    </tr>\n",
       "    <tr>\n",
       "      <th>3</th>\n",
       "      <td>259</td>\n",
       "      <td>RUA RIBEIRO JUNQUEIRA</td>\n",
       "      <td>SAO PAULO</td>\n",
       "      <td>-23.479475</td>\n",
       "      <td>-46.653269</td>\n",
       "    </tr>\n",
       "    <tr>\n",
       "      <th>4</th>\n",
       "      <td>738</td>\n",
       "      <td>PEROBEIRAS</td>\n",
       "      <td>SAO PAULO</td>\n",
       "      <td>-23.693233</td>\n",
       "      <td>-46.795505</td>\n",
       "    </tr>\n",
       "  </tbody>\n",
       "</table>\n",
       "</div>"
      ],
      "text/plain": [
       "       number                 street       city    latGold    lonGold\n",
       "0          45     JANE VANINE CAPOZI  SAO PAULO -23.868805 -46.678967\n",
       "1          10             DOS LIRIOS  SAO PAULO -23.638449 -46.447187\n",
       "2          81         ANTONIO XAVIER  SAO PAULO -23.475623 -46.427649\n",
       "3         259  RUA RIBEIRO JUNQUEIRA  SAO PAULO -23.479475 -46.653269\n",
       "4         738             PEROBEIRAS  SAO PAULO -23.693233 -46.795505"
      ]
     },
     "execution_count": 15,
     "metadata": {},
     "output_type": "execute_result"
    }
   ],
   "source": [
    "goldSP = pd.read_csv('amostraSP.csv')\n",
    "goldSP = goldSP[['number','street','city','latGold','lonGold']]\n",
    "\n",
    "goldSP.head()"
   ]
  },
  {
   "cell_type": "code",
   "execution_count": 16,
   "metadata": {},
   "outputs": [],
   "source": [
    "import pandas as pd\n",
    "\n",
    "# Suponha que df seja o seu DataFrame com o campo request_id\n",
    "# Suponha que gold seja o DataFrame 'gold'\n",
    "# Suponha que geo seja o DataFrame 'geo'\n",
    "\n",
    "# Criando uma lista para armazenar os grupos\n",
    "lista = []\n",
    "\n",
    "# Definindo o número total de grupos de 5 mil endereços\n",
    "num_grupos = 5\n",
    "tamanho_grupo = 5000\n",
    "\n",
    "# Loop para separar o DataFrame em grupos, ajustar 'request_id' do DataFrame 'gold' e mesclar com 'gold'\n",
    "for i in range(num_grupos):\n",
    "    # Calculando o intervalo para cada grupo\n",
    "    start_id = request_id + (i * tamanho_grupo)\n",
    "    end_id = start_id + tamanho_grupo - 1\n",
    "    \n",
    "    # Filtrando o DataFrame para obter o grupo atual\n",
    "    grupo = geo[(geo['request_id'] >= start_id) & (geo['request_id'] <= end_id)]\n",
    "    \n",
    "    # Ajustando o 'request_id' do DataFrame 'gold' para o grupo atual\n",
    "    goldSP['id'] = range(start_id, end_id + 1)\n",
    "    \n",
    "    # Realizando a mesclagem (merge) entre o grupo atual e o DataFrame 'gold' usando o 'geo' filtrado\n",
    "    result_df = goldSP.merge(geo, how='inner', left_on='id', right_on='request_id')\n",
    "    \n",
    "    # Salvando o DataFrame resultante em um arquivo CSV com nome correspondente ao grupo\n",
    "    nome_arquivo = f'geoGoldSPexp{i+1}.csv'  # Incrementando i+1 para nomear os arquivos de 1 a num_grupos\n",
    "    result_df.to_csv(nome_arquivo, index=False)\n",
    "    \n",
    "    # Adicionando o grupo à lista (opcional, se desejar manter a lista de grupos separados)\n",
    "    #lista.append(grupo)\n"
   ]
  },
  {
   "cell_type": "code",
   "execution_count": 8,
   "metadata": {},
   "outputs": [
    {
     "data": {
      "text/html": [
       "<div>\n",
       "<style scoped>\n",
       "    .dataframe tbody tr th:only-of-type {\n",
       "        vertical-align: middle;\n",
       "    }\n",
       "\n",
       "    .dataframe tbody tr th {\n",
       "        vertical-align: top;\n",
       "    }\n",
       "\n",
       "    .dataframe thead th {\n",
       "        text-align: right;\n",
       "    }\n",
       "</style>\n",
       "<table border=\"1\" class=\"dataframe\">\n",
       "  <thead>\n",
       "    <tr style=\"text-align: right;\">\n",
       "      <th></th>\n",
       "      <th>geoapi_id</th>\n",
       "      <th>request_id</th>\n",
       "      <th>lat</th>\n",
       "      <th>long</th>\n",
       "      <th>accuracy</th>\n",
       "      <th>endereço</th>\n",
       "    </tr>\n",
       "  </thead>\n",
       "  <tbody>\n",
       "  </tbody>\n",
       "</table>\n",
       "</div>"
      ],
      "text/plain": [
       "Empty DataFrame\n",
       "Columns: [geoapi_id, request_id, lat, long, accuracy, endereço]\n",
       "Index: []"
      ]
     },
     "execution_count": 8,
     "metadata": {},
     "output_type": "execute_result"
    }
   ],
   "source": [
    "teste = geo[geo['request_id'] > 2907599]\n",
    "teste"
   ]
  },
  {
   "cell_type": "code",
   "execution_count": null,
   "metadata": {},
   "outputs": [],
   "source": [
    "import pandas as pd\n",
    "import psycopg2\n",
    "\n",
    "con = psycopg2.connect( host='34.23.173.147',\n",
    "                            database='SGM',\n",
    "                            user='terralab', \n",
    "                            password='terralab0705')\n",
    "cur = con.cursor()\n",
    "\n",
    "query = 'select request_id from \"Request\"  where request_id >= 2852600'\n",
    "\n",
    "cur.execute(query)\n",
    "recset = cur.fetchall()\n",
    "#len(recset)\n",
    "\n",
    "geo = pd.DataFrame(recset, columns = ['request_id'])\n",
    "geo = geo.sort_values(by='request_id')\n",
    "geo = geo.reset_index(drop=True)\n",
    "geo.head()\n"
   ]
  },
  {
   "cell_type": "code",
   "execution_count": null,
   "metadata": {},
   "outputs": [],
   "source": [
    "geo.to_csv('teste.csv')"
   ]
  },
  {
   "cell_type": "code",
   "execution_count": null,
   "metadata": {},
   "outputs": [],
   "source": []
  }
 ],
 "metadata": {
  "kernelspec": {
   "display_name": "base",
   "language": "python",
   "name": "python3"
  },
  "language_info": {
   "codemirror_mode": {
    "name": "ipython",
    "version": 3
   },
   "file_extension": ".py",
   "mimetype": "text/x-python",
   "name": "python",
   "nbconvert_exporter": "python",
   "pygments_lexer": "ipython3",
   "version": "3.10.12"
  }
 },
 "nbformat": 4,
 "nbformat_minor": 2
}
